{
 "cells": [
  {
   "cell_type": "code",
   "execution_count": null,
   "id": "c630dd4c",
   "metadata": {},
   "outputs": [],
   "source": [
    "# use this only for Data factory pipeline\n",
    "import json\n",
    "\n",
    "# Retrieve the bronze_params directly as a widget\n",
    "bronze_params = dbutils.widgets.get(\"bronze_params\")\n",
    "print(f\"Raw bronze_params: {bronze_params}\")\n",
    "\n",
    "# Parse the JSON string\n",
    "output_data = json.loads(bronze_params)\n",
    "\n",
    "# Access individual variables\n",
    "start_date = output_data.get(\"start_date\", \"\")\n",
    "end_date = output_data.get(\"end_date\", \"\")\n",
    "bronze_adls = output_data.get(\"bronze_adls\", \"\")\n",
    "silver_adls = output_data.get(\"silver_adls\", \"\")\n",
    "gold_adls = output_data.get(\"gold_adls\", \"\")\n",
    "\n",
    "print(f\"Start Date: {start_date}, Bronze ADLS: {bronze_adls}\")"
   ]
  },
  {
   "cell_type": "code",
   "execution_count": null,
   "id": "df6556e8",
   "metadata": {},
   "outputs": [],
   "source": [
    "from pyspark.sql.functions import col, isnull, when\n",
    "from pyspark.sql.types import TimestampType\n",
    "from datetime import date, timedelta"
   ]
  },
  {
   "cell_type": "code",
   "execution_count": null,
   "id": "eb492bf3",
   "metadata": {},
   "outputs": [],
   "source": [
    "# Load the JSON data into Spark DataFrame\n",
    "df = spark.read.option(\"multiline\", \"true\").json(f\"{bronze_adls}{start_date}_earthquake_data.json\")"
   ]
  },
  {
   "cell_type": "code",
   "execution_count": null,
   "id": "ed5edcda",
   "metadata": {},
   "outputs": [],
   "source": [
    "df.head()"
   ]
  },
  {
   "cell_type": "code",
   "execution_count": null,
   "id": "42583b2d",
   "metadata": {},
   "outputs": [],
   "source": [
    "# Reshape earthquake data\n",
    "df = (\n",
    "    df\n",
    "    .select(\n",
    "        'id',\n",
    "        col('geometry.coordinates').getItem(0).alias('longitude'),\n",
    "        col('geometry.coordinates').getItem(1).alias('latitude'),\n",
    "        col('geometry.coordinates').getItem(2).alias('elevation'),\n",
    "        col('properties.title').alias('title'),\n",
    "        col('properties.place').alias('place_description'),\n",
    "        col('properties.sig').alias('sig'),\n",
    "        col('properties.mag').alias('mag'),\n",
    "        col('properties.magType').alias('magType'),\n",
    "        col('properties.time').alias('time'),\n",
    "        col('properties.updated').alias('updated')\n",
    "    )\n",
    ")"
   ]
  },
  {
   "cell_type": "code",
   "execution_count": null,
   "id": "f9a6d30d",
   "metadata": {},
   "outputs": [],
   "source": [
    "df.head()"
   ]
  },
  {
   "cell_type": "code",
   "execution_count": null,
   "id": "16313bbf",
   "metadata": {},
   "outputs": [],
   "source": [
    "# Validate data: Check for missing or null values\n",
    "df = (\n",
    "    df\n",
    "    .withColumn('longitude', when(isnull(col('longitude')), 0).otherwise(col('longitude')))\n",
    "    .withColumn('latitude', when(isnull(col('latitude')), 0).otherwise(col('latitude')))\n",
    "    .withColumn('time', when(isnull(col('time')), 0).otherwise(col('time')))\n",
    ")"
   ]
  },
  {
   "cell_type": "code",
   "execution_count": null,
   "id": "0bba1f7c",
   "metadata": {},
   "outputs": [],
   "source": [
    "# Convert 'time' and 'updated' to timestamp from Unix time\n",
    "df = (\n",
    "    df\n",
    "    .withColumn('time', (col('time') / 1000).cast(TimestampType()))\n",
    "    .withColumn('updated', (col('updated') / 1000).cast(TimestampType()))\n",
    ")"
   ]
  },
  {
   "cell_type": "code",
   "execution_count": null,
   "id": "bc08981f",
   "metadata": {},
   "outputs": [],
   "source": [
    "df.head()"
   ]
  },
  {
   "cell_type": "code",
   "execution_count": null,
   "id": "18a6984d",
   "metadata": {},
   "outputs": [],
   "source": [
    "# Save the transformed DataFrame to the Silver container\n",
    "silver_output_path = f\"{silver_adls}earthquake_events_silver/\""
   ]
  },
  {
   "cell_type": "code",
   "execution_count": null,
   "id": "ae60a3e8",
   "metadata": {},
   "outputs": [],
   "source": [
    "# Append DataFrame to Silver container in Parquet format\n",
    "df.write.mode('append').parquet(silver_output_path)"
   ]
  },
  {
   "cell_type": "code",
   "execution_count": null,
   "id": "3d238f37",
   "metadata": {},
   "outputs": [],
   "source": [
    "# Use this only for Data Factory Pipeline\n",
    "dbutils.notebook.exit(silver_output_path)"
   ]
  }
 ],
 "metadata": {
  "language_info": {
   "name": "python"
  }
 },
 "nbformat": 4,
 "nbformat_minor": 5
}
